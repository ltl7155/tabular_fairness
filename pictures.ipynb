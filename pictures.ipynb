{
 "cells": [
  {
   "cell_type": "code",
   "execution_count": null,
   "id": "f014a542",
   "metadata": {},
   "outputs": [],
   "source": [
    "import numpy as np\n",
    "import matplotlib.pyplot as plt\n",
    "from matplotlib.ticker import FuncFormatter\n",
    "\n",
    "\n",
    "def to_percent(temp, position):\n",
    "    return '%.2f' % temp + '%'\n",
    "\n",
    "\n",
    "y1 = [99.4, 96.5, 77.1, 70.5, 62.9]\n",
    "y2 = [99.7, 96.8, 84.8, 82.6, 76.8]\n",
    "y3 = [98.6, 94.6, 88.1, 87.1, 85.9]\n",
    "\n",
    "y5 = [97.1, 83.3, 69.2, 64.3, 60.0]\n",
    "y6 = [97.5, 88.7, 80.9, 76.2, 70.0]\n",
    "y7 = [95.6, 91.1, 87.1, 85.7, 85.8]\n",
    "\n",
    "x = [0, 1, 2, 3, 4]\n",
    "\n",
    "my_fig = plt.figure(figsize=(10, 6))\n",
    "\n",
    "# # 背景横线\n",
    "# plt.grid(axis=\"y\", zorder=1, linestyle='--')\n",
    "# plt.grid(axis=\"x\", zorder=1, linestyle='--')\n",
    "\n",
    "ax1 = my_fig.add_subplot(111)\n",
    "ax1.plot(x, y1, color='tan', label='a: vanilla model', marker='d')\n",
    "ax1.plot(x, y5, color='tan', label='a: repaired model', marker='x')\n",
    "ax1.plot(x, y2, color='#fd8d3c', label='g: vanilla model', marker='d')\n",
    "ax1.plot(x, y6, color='#fd8d3c', label='g: repaired model', marker='x')\n",
    "ax1.plot(x, y3, color='#006d2c', label='r: vanilla model', marker='d')\n",
    "ax1.plot(x, y7, color='#006d2c', label='r: repaired model', marker='x')\n",
    "\n",
    "\n",
    "# 横坐标的操作\n",
    "my_x_ticks = [\"freeze1\", \"freeze2\", \"freeze3\", \"freeze4\",\"freeze5\"]\n",
    "plt.xticks(x, my_x_ticks, fontsize=18)  # ,fontsize=8\n",
    "\n",
    "# 纵坐标的操作\n",
    "my_y_ticks1 = np.arange(50, 110, 10)\n",
    "plt.yticks(my_y_ticks1, fontsize=18)\n",
    "\n",
    "\n",
    "# 标题\n",
    "ax1.set_xlabel(r\"$\\beta$\", fontsize=18)\n",
    "ax1.set_ylabel(\"Classification Accuracy %\", fontsize=18)\n",
    "# ax1.set_ylabel(\"Classification Accuracy %\", fontsize=17)\n",
    "\n",
    "\n",
    "# plt.title(\"Black-Box Attack Defense(FGSM)\")\n",
    "\n",
    "# 纵坐标换为百分数\n",
    "# plt.gca().yaxis.set_major_formatter(FuncFormatter(to_percent))\n",
    "\n",
    "# 展示\n",
    "ax1.legend(loc=3, fontsize=15)\n",
    "plt.savefig(\"img/weaken.png\", bbox_inches='tight', pad_inches=0.1, dpi=640)\n",
    "plt.show()"
   ]
  },
  {
   "cell_type": "code",
   "execution_count": null,
   "id": "00aa30d6",
   "metadata": {},
   "outputs": [],
   "source": []
  },
  {
   "cell_type": "code",
   "execution_count": null,
   "id": "ea179f4c",
   "metadata": {},
   "outputs": [],
   "source": []
  }
 ],
 "metadata": {
  "kernelspec": {
   "display_name": "Python 3",
   "language": "python",
   "name": "python3"
  },
  "language_info": {
   "codemirror_mode": {
    "name": "ipython",
    "version": 3
   },
   "file_extension": ".py",
   "mimetype": "text/x-python",
   "name": "python",
   "nbconvert_exporter": "python",
   "pygments_lexer": "ipython3",
   "version": "3.7.10"
  }
 },
 "nbformat": 4,
 "nbformat_minor": 5
}
