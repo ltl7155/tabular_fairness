{
 "cells": [
  {
   "cell_type": "code",
   "execution_count": null,
   "id": "32412be3",
   "metadata": {},
   "outputs": [],
   "source": [
    "import numpy as np\n",
    "import matplotlib.pyplot as plt\n",
    "from matplotlib.ticker import FuncFormatter\n",
    "\n",
    "\n",
    "def to_percent(temp, position):\n",
    "    return '%.2f' % temp + '%'\n",
    "\n",
    "\n",
    "y1 = [10.00, 10.00, 10.00, 15.20, 18.76, 45.54, 81.39]\n",
    "y1 = y1[::-1]  # naive\n",
    "y3 = [87.67, 88.39, 87.84, 87.74, 88.40, 88.11, 88.90]\n",
    "y3 = y3[::-1]  # naive\n",
    "\n",
    "x = [0, 1, 2, 3, 4, 5, 6]\n",
    "\n",
    "my_fig = plt.figure(figsize=(8, 6))\n",
    "\n",
    "# 背景横线\n",
    "plt.grid(axis=\"y\", zorder=1, linestyle='--')\n",
    "plt.grid(axis=\"x\", zorder=1, linestyle='--')\n",
    "\n",
    "ax1 = my_fig.add_subplot(111)\n",
    "ax1.plot(x, y1, color='#fd8d3c', label='attacking route', marker='d')\n",
    "\n",
    "ax1.plot(x, y3, color='#006d2c', label='random route', marker='x')\n",
    "\n",
    "\n",
    "# 横坐标的操作\n",
    "my_x_ticks = [1.0, 0.6, 0.5, 0.4, 0.3, 0.2, 0.1]\n",
    "plt.xticks(x, my_x_ticks, fontsize=18)  # ,fontsize=8\n",
    "\n",
    "# 纵坐标的操作\n",
    "my_y_ticks1 = np.arange(0, 110, 10)\n",
    "plt.yticks(my_y_ticks1, fontsize=18)\n",
    "\n",
    "\n",
    "# 标题\n",
    "ax1.set_xlabel(r\"$\\beta$\", fontsize=25)\n",
    "ax1.set_ylabel(\"Classification Accuracy %\", fontsize=25)\n",
    "# ax1.set_ylabel(\"Classification Accuracy %\", fontsize=17)\n",
    "\n",
    "\n",
    "# plt.title(\"Black-Box Attack Defense(FGSM)\")\n",
    "\n",
    "# 纵坐标换为百分数\n",
    "# plt.gca().yaxis.set_major_formatter(FuncFormatter(to_percent))\n",
    "\n",
    "# 展示\n",
    "ax1.legend(loc=7, fontsize=25)\n",
    "plt.savefig(\"./draw_plot/img/weaken.png\", bbox_inches='tight', pad_inches=0.1, dpi=640)\n",
    "plt.show()"
   ]
  }
 ],
 "metadata": {
  "kernelspec": {
   "display_name": "Python 3",
   "language": "python",
   "name": "python3"
  },
  "language_info": {
   "codemirror_mode": {
    "name": "ipython",
    "version": 3
   },
   "file_extension": ".py",
   "mimetype": "text/x-python",
   "name": "python",
   "nbconvert_exporter": "python",
   "pygments_lexer": "ipython3",
   "version": "3.7.10"
  }
 },
 "nbformat": 4,
 "nbformat_minor": 5
}
