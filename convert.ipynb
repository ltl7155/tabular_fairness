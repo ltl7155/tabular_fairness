{
 "cells": [
  {
   "cell_type": "code",
   "execution_count": 1,
   "id": "596b52eb",
   "metadata": {},
   "outputs": [
    {
     "name": "stdout",
     "output_type": "stream",
     "text": [
      "WARNING:tensorflow:From /home/xiaofei/anaconda3/envs/debias/lib/python3.7/site-packages/tensorflow_core/python/ops/resource_variable_ops.py:1630: calling BaseResourceVariable.__init__ (from tensorflow.python.ops.resource_variable_ops) with constraint is deprecated and will be removed in a future version.\n",
      "Instructions for updating:\n",
      "If using Keras pass *_constraint arguments to layers.\n",
      "Model: \"sequential_31\"\n",
      "_________________________________________________________________\n",
      "Layer (type)                 Output Shape              Param #   \n",
      "=================================================================\n",
      "dense_184 (Dense)            (None, 50)                1250      \n",
      "_________________________________________________________________\n",
      "dense_185 (Dense)            (None, 30)                1530      \n",
      "_________________________________________________________________\n",
      "dense_186 (Dense)            (None, 15)                465       \n",
      "_________________________________________________________________\n",
      "dense_187 (Dense)            (None, 10)                160       \n",
      "_________________________________________________________________\n",
      "dense_188 (Dense)            (None, 5)                 55        \n",
      "_________________________________________________________________\n",
      "dense_189 (Dense)            (None, 1)                 6         \n",
      "=================================================================\n",
      "Total params: 3,466\n",
      "Trainable params: 3,466\n",
      "Non-trainable params: 0\n",
      "_________________________________________________________________\n"
     ]
    }
   ],
   "source": [
    "from tensorflow import keras\n",
    "import os\n",
    "import joblib\n",
    "import numpy as np\n",
    "from explain import  get_relevance, get_critical_neurons\n",
    "import tensorflow as tf\n",
    "# from tensorflow import set_random_seed\n",
    "from scalelayer import  ScaleLayer\n",
    "from numpy.random import seed\n",
    "import itertools\n",
    "import time\n",
    "import copy\n",
    "from preprocessing import pre_census_income\n",
    "import tensorflow.keras.backend as K\n",
    "import argparse\n",
    "\n",
    "\n",
    "# model_path = \"models/retrained_model_EIDIG/adult_EIDIG_INF_retrained_model.h5\"\n",
    "model_path = \"models/gated_models/adult_a_gated_4_0.3_0.2_p-0.3_p0.15.h5\"\n",
    "model = tf.keras.models.load_model(model_path, compile=False)\n",
    "model.summary()"
   ]
  },
  {
   "cell_type": "code",
   "execution_count": 2,
   "id": "6eff4569",
   "metadata": {},
   "outputs": [],
   "source": [
    "for index, layer in enumerate(model.layers):\n",
    "    if index < 5:\n",
    "        layer._name = \"layer\" + str(index+1)"
   ]
  },
  {
   "cell_type": "code",
   "execution_count": 3,
   "id": "58616bd7",
   "metadata": {},
   "outputs": [
    {
     "name": "stdout",
     "output_type": "stream",
     "text": [
      "Model: \"sequential_31\"\n",
      "_________________________________________________________________\n",
      "Layer (type)                 Output Shape              Param #   \n",
      "=================================================================\n",
      "layer1 (Dense)               (None, 50)                1250      \n",
      "_________________________________________________________________\n",
      "layer2 (Dense)               (None, 30)                1530      \n",
      "_________________________________________________________________\n",
      "layer3 (Dense)               (None, 15)                465       \n",
      "_________________________________________________________________\n",
      "layer4 (Dense)               (None, 10)                160       \n",
      "_________________________________________________________________\n",
      "layer5 (Dense)               (None, 5)                 55        \n",
      "_________________________________________________________________\n",
      "dense_189 (Dense)            (None, 1)                 6         \n",
      "=================================================================\n",
      "Total params: 3,466\n",
      "Trainable params: 3,466\n",
      "Non-trainable params: 0\n",
      "_________________________________________________________________\n"
     ]
    }
   ],
   "source": [
    "model.summary()"
   ]
  },
  {
   "cell_type": "code",
   "execution_count": 4,
   "id": "c41cd759",
   "metadata": {},
   "outputs": [],
   "source": [
    "tf.keras.models.save_model(model, model_path)"
   ]
  },
  {
   "cell_type": "code",
   "execution_count": 5,
   "id": "70577665",
   "metadata": {},
   "outputs": [
    {
     "name": "stdout",
     "output_type": "stream",
     "text": [
      "WARNING:tensorflow:From /home/xiaofei/anaconda3/envs/debias/lib/python3.7/site-packages/tensorflow_core/python/ops/init_ops.py:97: calling GlorotUniform.__init__ (from tensorflow.python.ops.init_ops) with dtype is deprecated and will be removed in a future version.\n",
      "Instructions for updating:\n",
      "Call initializer instance with the dtype argument instead of passing it to the constructor\n",
      "WARNING:tensorflow:From /home/xiaofei/anaconda3/envs/debias/lib/python3.7/site-packages/tensorflow_core/python/ops/init_ops.py:97: calling Zeros.__init__ (from tensorflow.python.ops.init_ops) with dtype is deprecated and will be removed in a future version.\n",
      "Instructions for updating:\n",
      "Call initializer instance with the dtype argument instead of passing it to the constructor\n",
      "WARNING:tensorflow:No training configuration found in save file: the model was *not* compiled. Compile it manually.\n",
      "Model: \"sequential_31\"\n",
      "_________________________________________________________________\n",
      "Layer (type)                 Output Shape              Param #   \n",
      "=================================================================\n",
      "layer1 (Dense)               (None, 50)                1250      \n",
      "_________________________________________________________________\n",
      "layer2 (Dense)               (None, 30)                1530      \n",
      "_________________________________________________________________\n",
      "layer3 (Dense)               (None, 15)                465       \n",
      "_________________________________________________________________\n",
      "layer4 (Dense)               (None, 10)                160       \n",
      "_________________________________________________________________\n",
      "layer5 (Dense)               (None, 5)                 55        \n",
      "_________________________________________________________________\n",
      "dense_189 (Dense)            (None, 1)                 6         \n",
      "=================================================================\n",
      "Total params: 3,466\n",
      "Trainable params: 3,466\n",
      "Non-trainable params: 0\n",
      "_________________________________________________________________\n"
     ]
    }
   ],
   "source": [
    "model = keras.models.load_model(model_path, custom_objects={'ScaleLayer': ScaleLayer})\n",
    "model.summary()"
   ]
  },
  {
   "cell_type": "code",
   "execution_count": null,
   "id": "a90bc6a7",
   "metadata": {},
   "outputs": [],
   "source": []
  }
 ],
 "metadata": {
  "kernelspec": {
   "display_name": "Python 3",
   "language": "python",
   "name": "python3"
  },
  "language_info": {
   "codemirror_mode": {
    "name": "ipython",
    "version": 3
   },
   "file_extension": ".py",
   "mimetype": "text/x-python",
   "name": "python",
   "nbconvert_exporter": "python",
   "pygments_lexer": "ipython3",
   "version": "3.7.10"
  }
 },
 "nbformat": 4,
 "nbformat_minor": 5
}
