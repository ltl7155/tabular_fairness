{
 "cells": [
  {
   "cell_type": "code",
   "execution_count": null,
   "id": "40354048",
   "metadata": {},
   "outputs": [],
   "source": [
    "from tensorflow import keras\n",
    "import os\n",
    "import joblib\n",
    "import numpy as np\n",
    "import tensorflow as tf\n",
    "from tensorflow import set_random_seed\n",
    "from numpy.random import seed\n",
    "from tensorflow.keras.utils import to_categorical\n",
    "\n",
    "from preprocessing import pre_census_income\n",
    "X_train, X_val, y_train, y_val, constraint = pre_census_income.X_train, \\\n",
    "    pre_census_income.X_val, pre_census_income.y_train, pre_census_income.y_val, pre_census_income.constraint\n",
    "\n",
    "def construct_model(frozen_layers, attr):\n",
    "    in_shape = X_train.shape[1:]\n",
    "    input = keras.Input(shape=in_shape)\n",
    "    layer1 = keras.layers.Dense(30, activation=\"relu\", name=\"layer1\")\n",
    "    layer2 = keras.layers.Dense(20, activation=\"relu\", name=\"layer2\")\n",
    "    layer3 = keras.layers.Dense(15, activation=\"relu\", name=\"layer3\")\n",
    "    layer4 = keras.layers.Dense(15, activation=\"relu\", name=\"layer4\")\n",
    "    layer5 = keras.layers.Dense(10, activation=\"relu\", name=\"layer5\")\n",
    "    # layer6 = keras.layers.Dense(1, activation=\"sigmoid\", name=\"layer6\")\n",
    "    c = category_map[attr]\n",
    "    if attr == 'g':\n",
    "        last_layer = keras.layers.Dense(c, activation=\"sigmoid\", name='layer_' + attr)\n",
    "    else:\n",
    "        last_layer = keras.layers.Dense(c, activation=\"softmax\", name='layer_' + attr)\n",
    "    layer_lst = [layer1, layer2, layer3, layer4, layer5]\n",
    "    for layer in layer_lst[0: frozen_layers]:\n",
    "        layer.trainable = False\n",
    "    x = input\n",
    "    for i, l in enumerate(layer_lst):\n",
    "        x = l(x)\n",
    "    # y_income = layer6(x)\n",
    "    y = last_layer(x)\n",
    "    model = keras.Sequential([input, layer1, layer2, layer3, layer4, layer5, last_layer])\n",
    "    # return keras.Model(input, y_race)\n",
    "    return model\n",
    "\n"
   ]
  }
 ],
 "metadata": {
  "kernelspec": {
   "display_name": "Python 3",
   "language": "python",
   "name": "python3"
  },
  "language_info": {
   "codemirror_mode": {
    "name": "ipython",
    "version": 3
   },
   "file_extension": ".py",
   "mimetype": "text/x-python",
   "name": "python",
   "nbconvert_exporter": "python",
   "pygments_lexer": "ipython3",
   "version": "3.7.10"
  }
 },
 "nbformat": 4,
 "nbformat_minor": 5
}
